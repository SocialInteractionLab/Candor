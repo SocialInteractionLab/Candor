{
 "cells": [
  {
   "cell_type": "code",
   "execution_count": 1,
   "metadata": {},
   "outputs": [
    {
     "name": "stdout",
     "output_type": "stream",
     "text": [
      "Requirement already satisfied: sentence-transformers in /Users/tuo70125/opt/anaconda3/envs/myenv/lib/python3.8/site-packages (3.0.1)\n",
      "Requirement already satisfied: numpy in /Users/tuo70125/opt/anaconda3/envs/myenv/lib/python3.8/site-packages (from sentence-transformers) (1.23.5)\n",
      "Requirement already satisfied: torch>=1.11.0 in /Users/tuo70125/opt/anaconda3/envs/myenv/lib/python3.8/site-packages (from sentence-transformers) (2.1.2)\n",
      "Requirement already satisfied: transformers<5.0.0,>=4.34.0 in /Users/tuo70125/opt/anaconda3/envs/myenv/lib/python3.8/site-packages (from sentence-transformers) (4.44.2)\n",
      "Requirement already satisfied: tqdm in /Users/tuo70125/opt/anaconda3/envs/myenv/lib/python3.8/site-packages (from sentence-transformers) (4.64.1)\n",
      "Requirement already satisfied: huggingface-hub>=0.15.1 in /Users/tuo70125/opt/anaconda3/envs/myenv/lib/python3.8/site-packages (from sentence-transformers) (0.24.6)\n",
      "Requirement already satisfied: scikit-learn in /Users/tuo70125/opt/anaconda3/envs/myenv/lib/python3.8/site-packages (from sentence-transformers) (1.2.0)\n",
      "Requirement already satisfied: Pillow in /Users/tuo70125/opt/anaconda3/envs/myenv/lib/python3.8/site-packages (from sentence-transformers) (9.4.0)\n",
      "Requirement already satisfied: scipy in /Users/tuo70125/opt/anaconda3/envs/myenv/lib/python3.8/site-packages (from sentence-transformers) (1.10.1)\n",
      "Requirement already satisfied: packaging>=20.9 in /Users/tuo70125/.local/lib/python3.8/site-packages (from huggingface-hub>=0.15.1->sentence-transformers) (23.0)\n",
      "Requirement already satisfied: fsspec>=2023.5.0 in /Users/tuo70125/opt/anaconda3/envs/myenv/lib/python3.8/site-packages (from huggingface-hub>=0.15.1->sentence-transformers) (2023.12.2)\n",
      "Requirement already satisfied: pyyaml>=5.1 in /Users/tuo70125/opt/anaconda3/envs/myenv/lib/python3.8/site-packages (from huggingface-hub>=0.15.1->sentence-transformers) (6.0.1)\n",
      "Requirement already satisfied: filelock in /Users/tuo70125/opt/anaconda3/envs/myenv/lib/python3.8/site-packages (from huggingface-hub>=0.15.1->sentence-transformers) (3.13.1)\n",
      "Requirement already satisfied: requests in /Users/tuo70125/opt/anaconda3/envs/myenv/lib/python3.8/site-packages (from huggingface-hub>=0.15.1->sentence-transformers) (2.31.0)\n",
      "Requirement already satisfied: typing-extensions>=3.7.4.3 in /Users/tuo70125/opt/anaconda3/envs/myenv/lib/python3.8/site-packages (from huggingface-hub>=0.15.1->sentence-transformers) (4.7.1)\n",
      "Requirement already satisfied: jinja2 in /Users/tuo70125/opt/anaconda3/envs/myenv/lib/python3.8/site-packages (from torch>=1.11.0->sentence-transformers) (3.1.2)\n",
      "Requirement already satisfied: sympy in /Users/tuo70125/opt/anaconda3/envs/myenv/lib/python3.8/site-packages (from torch>=1.11.0->sentence-transformers) (1.12)\n",
      "Requirement already satisfied: networkx in /Users/tuo70125/opt/anaconda3/envs/myenv/lib/python3.8/site-packages (from torch>=1.11.0->sentence-transformers) (3.1)\n",
      "Requirement already satisfied: regex!=2019.12.17 in /Users/tuo70125/opt/anaconda3/envs/myenv/lib/python3.8/site-packages (from transformers<5.0.0,>=4.34.0->sentence-transformers) (2023.10.3)\n",
      "Requirement already satisfied: safetensors>=0.4.1 in /Users/tuo70125/opt/anaconda3/envs/myenv/lib/python3.8/site-packages (from transformers<5.0.0,>=4.34.0->sentence-transformers) (0.4.5)\n",
      "Requirement already satisfied: tokenizers<0.20,>=0.19 in /Users/tuo70125/opt/anaconda3/envs/myenv/lib/python3.8/site-packages (from transformers<5.0.0,>=4.34.0->sentence-transformers) (0.19.1)\n",
      "Requirement already satisfied: threadpoolctl>=2.0.0 in /Users/tuo70125/opt/anaconda3/envs/myenv/lib/python3.8/site-packages (from scikit-learn->sentence-transformers) (3.1.0)\n",
      "Requirement already satisfied: joblib>=1.1.1 in /Users/tuo70125/opt/anaconda3/envs/myenv/lib/python3.8/site-packages (from scikit-learn->sentence-transformers) (1.2.0)\n",
      "Requirement already satisfied: MarkupSafe>=2.0 in /Users/tuo70125/opt/anaconda3/envs/myenv/lib/python3.8/site-packages (from jinja2->torch>=1.11.0->sentence-transformers) (2.1.1)\n",
      "Requirement already satisfied: urllib3<3,>=1.21.1 in /Users/tuo70125/opt/anaconda3/envs/myenv/lib/python3.8/site-packages (from requests->huggingface-hub>=0.15.1->sentence-transformers) (1.26.18)\n",
      "Requirement already satisfied: charset-normalizer<4,>=2 in /Users/tuo70125/opt/anaconda3/envs/myenv/lib/python3.8/site-packages (from requests->huggingface-hub>=0.15.1->sentence-transformers) (2.1.1)\n",
      "Requirement already satisfied: certifi>=2017.4.17 in /Users/tuo70125/opt/anaconda3/envs/myenv/lib/python3.8/site-packages (from requests->huggingface-hub>=0.15.1->sentence-transformers) (2023.11.17)\n",
      "Requirement already satisfied: idna<4,>=2.5 in /Users/tuo70125/opt/anaconda3/envs/myenv/lib/python3.8/site-packages (from requests->huggingface-hub>=0.15.1->sentence-transformers) (3.4)\n",
      "Requirement already satisfied: mpmath>=0.19 in /Users/tuo70125/opt/anaconda3/envs/myenv/lib/python3.8/site-packages (from sympy->torch>=1.11.0->sentence-transformers) (1.3.0)\n",
      "Requirement already satisfied: numpy in /Users/tuo70125/opt/anaconda3/envs/myenv/lib/python3.8/site-packages (1.23.5)\n",
      "Requirement already satisfied: pandas in /Users/tuo70125/opt/anaconda3/envs/myenv/lib/python3.8/site-packages (1.5.2)\n",
      "Requirement already satisfied: python-dateutil>=2.8.1 in /Users/tuo70125/.local/lib/python3.8/site-packages (from pandas) (2.8.2)\n",
      "Requirement already satisfied: pytz>=2020.1 in /Users/tuo70125/opt/anaconda3/envs/myenv/lib/python3.8/site-packages (from pandas) (2023.3.post1)\n",
      "Requirement already satisfied: numpy>=1.20.3 in /Users/tuo70125/opt/anaconda3/envs/myenv/lib/python3.8/site-packages (from pandas) (1.23.5)\n",
      "Requirement already satisfied: six>=1.5 in /Users/tuo70125/.local/lib/python3.8/site-packages (from python-dateutil>=2.8.1->pandas) (1.16.0)\n",
      "Requirement already satisfied: sklearn in /Users/tuo70125/opt/anaconda3/envs/myenv/lib/python3.8/site-packages (0.0.post1)\n"
     ]
    }
   ],
   "source": [
    "# install packages as needed\n",
    "! pip install sentence-transformers\n",
    "! pip install numpy\n",
    "! pip install pandas\n",
    "! pip install sklearn"
   ]
  },
  {
   "cell_type": "code",
   "execution_count": 2,
   "metadata": {},
   "outputs": [
    {
     "name": "stdout",
     "output_type": "stream",
     "text": [
      "Intel MKL WARNING: Support of Intel(R) Streaming SIMD Extensions 4.2 (Intel(R) SSE4.2) enabled only processors has been deprecated. Intel oneAPI Math Kernel Library 2025.0 will require Intel(R) Advanced Vector Extensions (Intel(R) AVX) instructions.\n",
      "Intel MKL WARNING: Support of Intel(R) Streaming SIMD Extensions 4.2 (Intel(R) SSE4.2) enabled only processors has been deprecated. Intel oneAPI Math Kernel Library 2025.0 will require Intel(R) Advanced Vector Extensions (Intel(R) AVX) instructions.\n"
     ]
    },
    {
     "name": "stderr",
     "output_type": "stream",
     "text": [
      "/Users/tuo70125/opt/anaconda3/envs/myenv/lib/python3.8/site-packages/sentence_transformers/cross_encoder/CrossEncoder.py:11: TqdmExperimentalWarning: Using `tqdm.autonotebook.tqdm` in notebook mode. Use `tqdm.tqdm` instead to force console mode (e.g. in jupyter console)\n",
      "  from tqdm.autonotebook import tqdm, trange\n",
      "2024-09-30 15:42:13.130083: I tensorflow/core/platform/cpu_feature_guard.cc:193] This TensorFlow binary is optimized with oneAPI Deep Neural Network Library (oneDNN) to use the following CPU instructions in performance-critical operations:  SSE4.1 SSE4.2\n",
      "To enable them in other operations, rebuild TensorFlow with the appropriate compiler flags.\n"
     ]
    }
   ],
   "source": [
    "# libraries\n",
    "from sentence_transformers import SentenceTransformer\n",
    "import numpy as np\n",
    "import pandas as pd\n",
    "from sklearn.metrics.pairwise import cosine_similarity"
   ]
  },
  {
   "cell_type": "code",
   "execution_count": 3,
   "metadata": {},
   "outputs": [
    {
     "name": "stderr",
     "output_type": "stream",
     "text": [
      "/Users/tuo70125/opt/anaconda3/envs/myenv/lib/python3.8/site-packages/transformers/tokenization_utils_base.py:1601: FutureWarning: `clean_up_tokenization_spaces` was not set. It will be set to `True` by default. This behavior will be depracted in transformers v4.45, and will be then set to `False` by default. For more details check this issue: https://github.com/huggingface/transformers/issues/31884\n",
      "  warnings.warn(\n"
     ]
    }
   ],
   "source": [
    "# load pre-trained sentence transformer model (aka SBERT)\n",
    "model = SentenceTransformer('all-MiniLM-L6-v2')"
   ]
  },
  {
   "cell_type": "code",
   "execution_count": 4,
   "metadata": {},
   "outputs": [
    {
     "data": {
      "text/html": [
       "<div>\n",
       "<style scoped>\n",
       "    .dataframe tbody tr th:only-of-type {\n",
       "        vertical-align: middle;\n",
       "    }\n",
       "\n",
       "    .dataframe tbody tr th {\n",
       "        vertical-align: top;\n",
       "    }\n",
       "\n",
       "    .dataframe thead th {\n",
       "        text-align: right;\n",
       "    }\n",
       "</style>\n",
       "<table border=\"1\" class=\"dataframe\">\n",
       "  <thead>\n",
       "    <tr style=\"text-align: right;\">\n",
       "      <th></th>\n",
       "      <th>scaled_turn_id</th>\n",
       "      <th>new_topic</th>\n",
       "      <th>utterance</th>\n",
       "      <th>speaker</th>\n",
       "      <th>transcript_id</th>\n",
       "    </tr>\n",
       "  </thead>\n",
       "  <tbody>\n",
       "    <tr>\n",
       "      <th>0</th>\n",
       "      <td>0.0</td>\n",
       "      <td>NaN</td>\n",
       "      <td>Yeah. Yeah. One. All right. Right. Uh huh. Mhm...</td>\n",
       "      <td>5b18647968a5ed00017343ec</td>\n",
       "      <td>b8ca03fb-ba34-49dc-b33f-30b6e9189685</td>\n",
       "    </tr>\n",
       "    <tr>\n",
       "      <th>1</th>\n",
       "      <td>0.0</td>\n",
       "      <td>NaN</td>\n",
       "      <td>mm hmm. Yeah. Yeah. Mm hmm. Mhm. Mhm. Okay. Wh...</td>\n",
       "      <td>5e121b2b82a955890a9b3484</td>\n",
       "      <td>b2afb6c2-6049-4861-88a5-f0aeba68b5c8</td>\n",
       "    </tr>\n",
       "    <tr>\n",
       "      <th>2</th>\n",
       "      <td>0.0</td>\n",
       "      <td>NaN</td>\n",
       "      <td>Yeah. Mhm Okay. Mhm, wow. Same thing, yeah. Ye...</td>\n",
       "      <td>5e13ad514c81b2a01ae4aa9f</td>\n",
       "      <td>acd5c3b5-c080-4ab4-98ca-4099c2711591</td>\n",
       "    </tr>\n",
       "    <tr>\n",
       "      <th>3</th>\n",
       "      <td>0.0</td>\n",
       "      <td>NaN</td>\n",
       "      <td>Hey, I made it first. That's good. Will anyone...</td>\n",
       "      <td>5eaa26c17c3cbc1ae4881baa</td>\n",
       "      <td>ec397cba-60f5-4bc5-ab02-73a2aaa17029</td>\n",
       "    </tr>\n",
       "    <tr>\n",
       "      <th>4</th>\n",
       "      <td>0.0</td>\n",
       "      <td>NaN</td>\n",
       "      <td>Uh huh. Mhm Yeah. Okay. He did. Yeah. Yeah. Yo...</td>\n",
       "      <td>5eb4a3fb75168630c3e6fdb1</td>\n",
       "      <td>f7ddd168-2607-4d2b-b01d-905e4e814ba6</td>\n",
       "    </tr>\n",
       "  </tbody>\n",
       "</table>\n",
       "</div>"
      ],
      "text/plain": [
       "   scaled_turn_id new_topic  \\\n",
       "0             0.0       NaN   \n",
       "1             0.0       NaN   \n",
       "2             0.0       NaN   \n",
       "3             0.0       NaN   \n",
       "4             0.0       NaN   \n",
       "\n",
       "                                           utterance  \\\n",
       "0  Yeah. Yeah. One. All right. Right. Uh huh. Mhm...   \n",
       "1  mm hmm. Yeah. Yeah. Mm hmm. Mhm. Mhm. Okay. Wh...   \n",
       "2  Yeah. Mhm Okay. Mhm, wow. Same thing, yeah. Ye...   \n",
       "3  Hey, I made it first. That's good. Will anyone...   \n",
       "4  Uh huh. Mhm Yeah. Okay. He did. Yeah. Yeah. Yo...   \n",
       "\n",
       "                    speaker                         transcript_id  \n",
       "0  5b18647968a5ed00017343ec  b8ca03fb-ba34-49dc-b33f-30b6e9189685  \n",
       "1  5e121b2b82a955890a9b3484  b2afb6c2-6049-4861-88a5-f0aeba68b5c8  \n",
       "2  5e13ad514c81b2a01ae4aa9f  acd5c3b5-c080-4ab4-98ca-4099c2711591  \n",
       "3  5eaa26c17c3cbc1ae4881baa  ec397cba-60f5-4bc5-ab02-73a2aaa17029  \n",
       "4  5eb4a3fb75168630c3e6fdb1  f7ddd168-2607-4d2b-b01d-905e4e814ba6  "
      ]
     },
     "execution_count": 4,
     "metadata": {},
     "output_type": "execute_result"
    }
   ],
   "source": [
    "# load pilot annotation data\n",
    "data = pd.read_csv(\"/Users/tuo70125/My Drive/SANLab/Experiments/CANDOR/analysis/data/data-for-python.csv\")\n",
    "# print preview of data\n",
    "data.head()"
   ]
  },
  {
   "cell_type": "markdown",
   "metadata": {},
   "source": [
    "## Cosine similarity between utterance and topic"
   ]
  },
  {
   "cell_type": "code",
   "execution_count": 5,
   "metadata": {},
   "outputs": [],
   "source": [
    "# make sure chat is pandas dataframe\n",
    "chat = pd.DataFrame(data)\n",
    "\n",
    "# create function to calculate cosine similarity between annotated topic and utterance\n",
    "def question_chat_cosine_similarity(row):\n",
    "    # extract current message and current topic\n",
    "    current = [row['utterance'], row['new_topic']]\n",
    "    # apply s-bert model to each string to get embeddings\n",
    "    embeddings = model.encode(current)\n",
    "    # calculate cosine similarity between question and message\n",
    "    similarity = model.similarity(embeddings, embeddings)\n",
    "    return similarity[0][1]\n",
    "\n",
    "# apply function to each row of chat data\n",
    "chat['topic_utterance_similarity'] = chat.apply(question_chat_cosine_similarity, axis = 1)"
   ]
  },
  {
   "cell_type": "code",
   "execution_count": 6,
   "metadata": {},
   "outputs": [
    {
     "data": {
      "text/html": [
       "<div>\n",
       "<style scoped>\n",
       "    .dataframe tbody tr th:only-of-type {\n",
       "        vertical-align: middle;\n",
       "    }\n",
       "\n",
       "    .dataframe tbody tr th {\n",
       "        vertical-align: top;\n",
       "    }\n",
       "\n",
       "    .dataframe thead th {\n",
       "        text-align: right;\n",
       "    }\n",
       "</style>\n",
       "<table border=\"1\" class=\"dataframe\">\n",
       "  <thead>\n",
       "    <tr style=\"text-align: right;\">\n",
       "      <th></th>\n",
       "      <th>scaled_turn_id</th>\n",
       "      <th>new_topic</th>\n",
       "      <th>utterance</th>\n",
       "      <th>speaker</th>\n",
       "      <th>transcript_id</th>\n",
       "      <th>topic_utterance_similarity</th>\n",
       "    </tr>\n",
       "  </thead>\n",
       "  <tbody>\n",
       "    <tr>\n",
       "      <th>0</th>\n",
       "      <td>0.0</td>\n",
       "      <td>NaN</td>\n",
       "      <td>Yeah. Yeah. One. All right. Right. Uh huh. Mhm...</td>\n",
       "      <td>5b18647968a5ed00017343ec</td>\n",
       "      <td>b8ca03fb-ba34-49dc-b33f-30b6e9189685</td>\n",
       "      <td>tensor(0.1831)</td>\n",
       "    </tr>\n",
       "    <tr>\n",
       "      <th>1</th>\n",
       "      <td>0.0</td>\n",
       "      <td>NaN</td>\n",
       "      <td>mm hmm. Yeah. Yeah. Mm hmm. Mhm. Mhm. Okay. Wh...</td>\n",
       "      <td>5e121b2b82a955890a9b3484</td>\n",
       "      <td>b2afb6c2-6049-4861-88a5-f0aeba68b5c8</td>\n",
       "      <td>tensor(0.1982)</td>\n",
       "    </tr>\n",
       "    <tr>\n",
       "      <th>2</th>\n",
       "      <td>0.0</td>\n",
       "      <td>NaN</td>\n",
       "      <td>Yeah. Mhm Okay. Mhm, wow. Same thing, yeah. Ye...</td>\n",
       "      <td>5e13ad514c81b2a01ae4aa9f</td>\n",
       "      <td>acd5c3b5-c080-4ab4-98ca-4099c2711591</td>\n",
       "      <td>tensor(0.1799)</td>\n",
       "    </tr>\n",
       "    <tr>\n",
       "      <th>3</th>\n",
       "      <td>0.0</td>\n",
       "      <td>NaN</td>\n",
       "      <td>Hey, I made it first. That's good. Will anyone...</td>\n",
       "      <td>5eaa26c17c3cbc1ae4881baa</td>\n",
       "      <td>ec397cba-60f5-4bc5-ab02-73a2aaa17029</td>\n",
       "      <td>tensor(0.0702)</td>\n",
       "    </tr>\n",
       "    <tr>\n",
       "      <th>4</th>\n",
       "      <td>0.0</td>\n",
       "      <td>NaN</td>\n",
       "      <td>Uh huh. Mhm Yeah. Okay. He did. Yeah. Yeah. Yo...</td>\n",
       "      <td>5eb4a3fb75168630c3e6fdb1</td>\n",
       "      <td>f7ddd168-2607-4d2b-b01d-905e4e814ba6</td>\n",
       "      <td>tensor(0.1107)</td>\n",
       "    </tr>\n",
       "  </tbody>\n",
       "</table>\n",
       "</div>"
      ],
      "text/plain": [
       "   scaled_turn_id new_topic  \\\n",
       "0             0.0       NaN   \n",
       "1             0.0       NaN   \n",
       "2             0.0       NaN   \n",
       "3             0.0       NaN   \n",
       "4             0.0       NaN   \n",
       "\n",
       "                                           utterance  \\\n",
       "0  Yeah. Yeah. One. All right. Right. Uh huh. Mhm...   \n",
       "1  mm hmm. Yeah. Yeah. Mm hmm. Mhm. Mhm. Okay. Wh...   \n",
       "2  Yeah. Mhm Okay. Mhm, wow. Same thing, yeah. Ye...   \n",
       "3  Hey, I made it first. That's good. Will anyone...   \n",
       "4  Uh huh. Mhm Yeah. Okay. He did. Yeah. Yeah. Yo...   \n",
       "\n",
       "                    speaker                         transcript_id  \\\n",
       "0  5b18647968a5ed00017343ec  b8ca03fb-ba34-49dc-b33f-30b6e9189685   \n",
       "1  5e121b2b82a955890a9b3484  b2afb6c2-6049-4861-88a5-f0aeba68b5c8   \n",
       "2  5e13ad514c81b2a01ae4aa9f  acd5c3b5-c080-4ab4-98ca-4099c2711591   \n",
       "3  5eaa26c17c3cbc1ae4881baa  ec397cba-60f5-4bc5-ab02-73a2aaa17029   \n",
       "4  5eb4a3fb75168630c3e6fdb1  f7ddd168-2607-4d2b-b01d-905e4e814ba6   \n",
       "\n",
       "  topic_utterance_similarity  \n",
       "0             tensor(0.1831)  \n",
       "1             tensor(0.1982)  \n",
       "2             tensor(0.1799)  \n",
       "3             tensor(0.0702)  \n",
       "4             tensor(0.1107)  "
      ]
     },
     "execution_count": 6,
     "metadata": {},
     "output_type": "execute_result"
    }
   ],
   "source": [
    "# save\n",
    "chat.to_csv('/Users/tuo70125/My Drive/SANLab/Experiments/CANDOR/analysis/data/utterance-topic-cosine.csv')\n",
    "# print \n",
    "chat.head()"
   ]
  }
 ],
 "metadata": {
  "kernelspec": {
   "display_name": "myenv",
   "language": "python",
   "name": "python3"
  },
  "language_info": {
   "codemirror_mode": {
    "name": "ipython",
    "version": 3
   },
   "file_extension": ".py",
   "mimetype": "text/x-python",
   "name": "python",
   "nbconvert_exporter": "python",
   "pygments_lexer": "ipython3",
   "version": "3.8.15"
  }
 },
 "nbformat": 4,
 "nbformat_minor": 2
}
