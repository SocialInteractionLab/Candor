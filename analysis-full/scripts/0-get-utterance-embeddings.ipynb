{
 "cells": [
  {
   "cell_type": "markdown",
   "id": "7103713a",
   "metadata": {},
   "source": [
    "## Get Utterance Embeddings\n",
    "This script gets BERT embeddings on all utterances of the CANDOR data set.\n",
    "\n",
    "**Author:** Helen Schmidt  \n",
    "**Python version:** 3.9.18"
   ]
  },
  {
   "cell_type": "code",
   "execution_count": null,
   "id": "4f28e9e9",
   "metadata": {},
   "outputs": [
    {
     "name": "stderr",
     "output_type": "stream",
     "text": [
      "/opt/anaconda3/envs/myenv-python3-9/lib/python3.9/site-packages/sentence_transformers/cross_encoder/CrossEncoder.py:13: TqdmExperimentalWarning: Using `tqdm.autonotebook.tqdm` in notebook mode. Use `tqdm.tqdm` instead to force console mode (e.g. in jupyter console)\n",
      "  from tqdm.autonotebook import tqdm, trange\n"
     ]
    }
   ],
   "source": [
    "import os\n",
    "import pandas as pd\n",
    "from sentence_transformers import SentenceTransformer"
   ]
  },
  {
   "cell_type": "code",
   "execution_count": 2,
   "id": "c5c70cb1",
   "metadata": {},
   "outputs": [],
   "source": [
    "# define data input location\n",
    "input_dir = \"/Users/helenschmidt/Library/CloudStorage/GoogleDrive-helenschmidt129@gmail.com/My Drive/SANLab/Experiments/CANDOR/transcripts/raw\"\n",
    "# define data output location\n",
    "output_dir = \"/Users/helenschmidt/Library/CloudStorage/GoogleDrive-helenschmidt129@gmail.com/My Drive/SANLab/Experiments/Conversation-Structure/data/output/full-sample\""
   ]
  },
  {
   "cell_type": "code",
   "execution_count": 3,
   "id": "e966bfd6",
   "metadata": {},
   "outputs": [
    {
     "name": "stderr",
     "output_type": "stream",
     "text": [
      "/opt/anaconda3/envs/myenv-python3-9/lib/python3.9/site-packages/transformers/tokenization_utils_base.py:1601: FutureWarning: `clean_up_tokenization_spaces` was not set. It will be set to `True` by default. This behavior will be depracted in transformers v4.45, and will be then set to `False` by default. For more details check this issue: https://github.com/huggingface/transformers/issues/31884\n",
      "  warnings.warn(\n"
     ]
    }
   ],
   "source": [
    "# load pre-trained sentence transformer model (aka SBERT)\n",
    "model = SentenceTransformer('all-MiniLM-L6-v2')"
   ]
  },
  {
   "cell_type": "code",
   "execution_count": 4,
   "id": "e34eace6",
   "metadata": {},
   "outputs": [
    {
     "name": "stdout",
     "output_type": "stream",
     "text": [
      "Combined DataFrame shape: (431068, 17)\n"
     ]
    }
   ],
   "source": [
    "# load all modified transcripts and combine into one data frame\n",
    "\n",
    "all_dfs = []\n",
    "for dirpath, dirnames, filenames in os.walk(input_dir):\n",
    "    for filename in filenames:\n",
    "        if filename == 'transcript_backbiter_transformed_noLine1.csv':\n",
    "            file_path = os.path.join(dirpath, filename)\n",
    "            df = pd.read_csv(file_path)\n",
    "            relative_path = os.path.relpath(dirpath, input_dir)\n",
    "            transcript_id = relative_path.split(os.sep)[0] if relative_path else ''\n",
    "            # add new variable for transcript ID from folder name\n",
    "            df['transcript_id'] = transcript_id\n",
    "            all_dfs.append(df)\n",
    "\n",
    "# Concatenate all dataframes by rows (like row bind)\n",
    "df = pd.concat(all_dfs, ignore_index=True)\n",
    "\n",
    "print(f\"Combined DataFrame shape: {df.shape}\")"
   ]
  },
  {
   "cell_type": "code",
   "execution_count": 5,
   "id": "6c90d2af",
   "metadata": {},
   "outputs": [
    {
     "data": {
      "application/vnd.microsoft.datawrangler.viewer.v0+json": {
       "columns": [
        {
         "name": "index",
         "rawType": "int64",
         "type": "integer"
        },
        {
         "name": "turn_id",
         "rawType": "int64",
         "type": "integer"
        },
        {
         "name": "speaker",
         "rawType": "object",
         "type": "string"
        },
        {
         "name": "start",
         "rawType": "float64",
         "type": "float"
        },
        {
         "name": "stop",
         "rawType": "float64",
         "type": "float"
        },
        {
         "name": "utterance",
         "rawType": "object",
         "type": "string"
        },
        {
         "name": "backchannel",
         "rawType": "object",
         "type": "unknown"
        },
        {
         "name": "backchannel_count",
         "rawType": "int64",
         "type": "integer"
        },
        {
         "name": "backchannel_speaker",
         "rawType": "object",
         "type": "unknown"
        },
        {
         "name": "backchannel_start",
         "rawType": "float64",
         "type": "float"
        },
        {
         "name": "backchannel_stop",
         "rawType": "float64",
         "type": "float"
        },
        {
         "name": "interval",
         "rawType": "float64",
         "type": "float"
        },
        {
         "name": "delta",
         "rawType": "float64",
         "type": "float"
        },
        {
         "name": "questions",
         "rawType": "int64",
         "type": "integer"
        },
        {
         "name": "end_question",
         "rawType": "bool",
         "type": "boolean"
        },
        {
         "name": "overlap",
         "rawType": "bool",
         "type": "boolean"
        },
        {
         "name": "n_words",
         "rawType": "int64",
         "type": "integer"
        },
        {
         "name": "transcript_id",
         "rawType": "object",
         "type": "string"
        }
       ],
       "ref": "9f6d6827-b48e-448a-9d54-274bde2eb0b1",
       "rows": [
        [
         "0",
         "0",
         "5c8be0dd542fbd0016924f5f",
         "78.44",
         "83.36",
         "No, I'm good. How are you?",
         null,
         "0",
         null,
         null,
         null,
         "20.18",
         "4.92",
         "1",
         "True",
         "False",
         "6",
         "3a51d3fd-a343-4177-b48e-a694a14c5891"
        ],
        [
         "1",
         "1",
         "5f2f6bd965964e35e20c7445",
         "78.94",
         "81.56",
         "No. Hi, how are you?",
         null,
         "0",
         null,
         null,
         null,
         "-0.31",
         "2.62",
         "1",
         "True",
         "True",
         "5",
         "3a51d3fd-a343-4177-b48e-a694a14c5891"
        ],
        [
         "2",
         "2",
         "5f2f6bd965964e35e20c7445",
         "83.94",
         "85.26",
         "Good thanks.",
         null,
         "0",
         null,
         null,
         null,
         "0.58",
         "1.32",
         "0",
         "False",
         "False",
         "2",
         "3a51d3fd-a343-4177-b48e-a694a14c5891"
        ],
        [
         "3",
         "3",
         "5c8be0dd542fbd0016924f5f",
         "85.44",
         "90.06",
         "Hm My name is played to me",
         "Mhm.",
         "1",
         "5f2f6bd965964e35e20c7445",
         "87.74",
         "88.76",
         "0.18",
         "4.62",
         "0",
         "False",
         "False",
         "7",
         "3a51d3fd-a343-4177-b48e-a694a14c5891"
        ],
        [
         "4",
         "4",
         "5f2f6bd965964e35e20c7445",
         "89.44",
         "92.16",
         "Hi, my name's Amanda.",
         null,
         "0",
         null,
         null,
         null,
         "-0.24",
         "2.72",
         "0",
         "False",
         "True",
         "4",
         "3a51d3fd-a343-4177-b48e-a694a14c5891"
        ]
       ],
       "shape": {
        "columns": 17,
        "rows": 5
       }
      },
      "text/html": [
       "<div>\n",
       "<style scoped>\n",
       "    .dataframe tbody tr th:only-of-type {\n",
       "        vertical-align: middle;\n",
       "    }\n",
       "\n",
       "    .dataframe tbody tr th {\n",
       "        vertical-align: top;\n",
       "    }\n",
       "\n",
       "    .dataframe thead th {\n",
       "        text-align: right;\n",
       "    }\n",
       "</style>\n",
       "<table border=\"1\" class=\"dataframe\">\n",
       "  <thead>\n",
       "    <tr style=\"text-align: right;\">\n",
       "      <th></th>\n",
       "      <th>turn_id</th>\n",
       "      <th>speaker</th>\n",
       "      <th>start</th>\n",
       "      <th>stop</th>\n",
       "      <th>utterance</th>\n",
       "      <th>backchannel</th>\n",
       "      <th>backchannel_count</th>\n",
       "      <th>backchannel_speaker</th>\n",
       "      <th>backchannel_start</th>\n",
       "      <th>backchannel_stop</th>\n",
       "      <th>interval</th>\n",
       "      <th>delta</th>\n",
       "      <th>questions</th>\n",
       "      <th>end_question</th>\n",
       "      <th>overlap</th>\n",
       "      <th>n_words</th>\n",
       "      <th>transcript_id</th>\n",
       "    </tr>\n",
       "  </thead>\n",
       "  <tbody>\n",
       "    <tr>\n",
       "      <th>0</th>\n",
       "      <td>0</td>\n",
       "      <td>5c8be0dd542fbd0016924f5f</td>\n",
       "      <td>78.44</td>\n",
       "      <td>83.36</td>\n",
       "      <td>No, I'm good. How are you?</td>\n",
       "      <td>NaN</td>\n",
       "      <td>0</td>\n",
       "      <td>NaN</td>\n",
       "      <td>NaN</td>\n",
       "      <td>NaN</td>\n",
       "      <td>20.18</td>\n",
       "      <td>4.92</td>\n",
       "      <td>1</td>\n",
       "      <td>True</td>\n",
       "      <td>False</td>\n",
       "      <td>6</td>\n",
       "      <td>3a51d3fd-a343-4177-b48e-a694a14c5891</td>\n",
       "    </tr>\n",
       "    <tr>\n",
       "      <th>1</th>\n",
       "      <td>1</td>\n",
       "      <td>5f2f6bd965964e35e20c7445</td>\n",
       "      <td>78.94</td>\n",
       "      <td>81.56</td>\n",
       "      <td>No. Hi, how are you?</td>\n",
       "      <td>NaN</td>\n",
       "      <td>0</td>\n",
       "      <td>NaN</td>\n",
       "      <td>NaN</td>\n",
       "      <td>NaN</td>\n",
       "      <td>-0.31</td>\n",
       "      <td>2.62</td>\n",
       "      <td>1</td>\n",
       "      <td>True</td>\n",
       "      <td>True</td>\n",
       "      <td>5</td>\n",
       "      <td>3a51d3fd-a343-4177-b48e-a694a14c5891</td>\n",
       "    </tr>\n",
       "    <tr>\n",
       "      <th>2</th>\n",
       "      <td>2</td>\n",
       "      <td>5f2f6bd965964e35e20c7445</td>\n",
       "      <td>83.94</td>\n",
       "      <td>85.26</td>\n",
       "      <td>Good thanks.</td>\n",
       "      <td>NaN</td>\n",
       "      <td>0</td>\n",
       "      <td>NaN</td>\n",
       "      <td>NaN</td>\n",
       "      <td>NaN</td>\n",
       "      <td>0.58</td>\n",
       "      <td>1.32</td>\n",
       "      <td>0</td>\n",
       "      <td>False</td>\n",
       "      <td>False</td>\n",
       "      <td>2</td>\n",
       "      <td>3a51d3fd-a343-4177-b48e-a694a14c5891</td>\n",
       "    </tr>\n",
       "    <tr>\n",
       "      <th>3</th>\n",
       "      <td>3</td>\n",
       "      <td>5c8be0dd542fbd0016924f5f</td>\n",
       "      <td>85.44</td>\n",
       "      <td>90.06</td>\n",
       "      <td>Hm My name is played to me</td>\n",
       "      <td>Mhm.</td>\n",
       "      <td>1</td>\n",
       "      <td>5f2f6bd965964e35e20c7445</td>\n",
       "      <td>87.74</td>\n",
       "      <td>88.76</td>\n",
       "      <td>0.18</td>\n",
       "      <td>4.62</td>\n",
       "      <td>0</td>\n",
       "      <td>False</td>\n",
       "      <td>False</td>\n",
       "      <td>7</td>\n",
       "      <td>3a51d3fd-a343-4177-b48e-a694a14c5891</td>\n",
       "    </tr>\n",
       "    <tr>\n",
       "      <th>4</th>\n",
       "      <td>4</td>\n",
       "      <td>5f2f6bd965964e35e20c7445</td>\n",
       "      <td>89.44</td>\n",
       "      <td>92.16</td>\n",
       "      <td>Hi, my name's Amanda.</td>\n",
       "      <td>NaN</td>\n",
       "      <td>0</td>\n",
       "      <td>NaN</td>\n",
       "      <td>NaN</td>\n",
       "      <td>NaN</td>\n",
       "      <td>-0.24</td>\n",
       "      <td>2.72</td>\n",
       "      <td>0</td>\n",
       "      <td>False</td>\n",
       "      <td>True</td>\n",
       "      <td>4</td>\n",
       "      <td>3a51d3fd-a343-4177-b48e-a694a14c5891</td>\n",
       "    </tr>\n",
       "  </tbody>\n",
       "</table>\n",
       "</div>"
      ],
      "text/plain": [
       "   turn_id                   speaker  start   stop  \\\n",
       "0        0  5c8be0dd542fbd0016924f5f  78.44  83.36   \n",
       "1        1  5f2f6bd965964e35e20c7445  78.94  81.56   \n",
       "2        2  5f2f6bd965964e35e20c7445  83.94  85.26   \n",
       "3        3  5c8be0dd542fbd0016924f5f  85.44  90.06   \n",
       "4        4  5f2f6bd965964e35e20c7445  89.44  92.16   \n",
       "\n",
       "                    utterance backchannel  backchannel_count  \\\n",
       "0  No, I'm good. How are you?         NaN                  0   \n",
       "1        No. Hi, how are you?         NaN                  0   \n",
       "2                Good thanks.         NaN                  0   \n",
       "3  Hm My name is played to me        Mhm.                  1   \n",
       "4       Hi, my name's Amanda.         NaN                  0   \n",
       "\n",
       "        backchannel_speaker  backchannel_start  backchannel_stop  interval  \\\n",
       "0                       NaN                NaN               NaN     20.18   \n",
       "1                       NaN                NaN               NaN     -0.31   \n",
       "2                       NaN                NaN               NaN      0.58   \n",
       "3  5f2f6bd965964e35e20c7445              87.74             88.76      0.18   \n",
       "4                       NaN                NaN               NaN     -0.24   \n",
       "\n",
       "   delta  questions  end_question  overlap  n_words  \\\n",
       "0   4.92          1          True    False        6   \n",
       "1   2.62          1          True     True        5   \n",
       "2   1.32          0         False    False        2   \n",
       "3   4.62          0         False    False        7   \n",
       "4   2.72          0         False     True        4   \n",
       "\n",
       "                          transcript_id  \n",
       "0  3a51d3fd-a343-4177-b48e-a694a14c5891  \n",
       "1  3a51d3fd-a343-4177-b48e-a694a14c5891  \n",
       "2  3a51d3fd-a343-4177-b48e-a694a14c5891  \n",
       "3  3a51d3fd-a343-4177-b48e-a694a14c5891  \n",
       "4  3a51d3fd-a343-4177-b48e-a694a14c5891  "
      ]
     },
     "execution_count": 5,
     "metadata": {},
     "output_type": "execute_result"
    }
   ],
   "source": [
    "# preview data frame\n",
    "df.head()"
   ]
  },
  {
   "cell_type": "markdown",
   "id": "5dd63bca",
   "metadata": {},
   "source": [
    "## Get BERT embeddings"
   ]
  },
  {
   "cell_type": "code",
   "execution_count": 9,
   "id": "5eb541cc",
   "metadata": {},
   "outputs": [
    {
     "name": "stdout",
     "output_type": "stream",
     "text": [
      "Done with utterance embeddings!\n"
     ]
    }
   ],
   "source": [
    "# create copy of data frame to add embeddings\n",
    "df_embeddings = df\n",
    "#df_embeddings = df.head(1000).copy() # also create test version\n",
    "\n",
    "# define embeddings function\n",
    "def get_embeddings(text):\n",
    "    if not isinstance(text, str) or pd.isna(text):\n",
    "        return None # skip getting embedding for null or non-string values (there are 1668 missing in data frame)\n",
    "    return model.encode(text)\n",
    "\n",
    "# get embeddings\n",
    "df_embeddings['embeddings_utterance'] = df_embeddings['utterance'].apply(get_embeddings)\n",
    "\n",
    "print(\"Done with utterance embeddings!\")\n",
    "\n",
    "# save as pkl for easy loading later on\n",
    "df_embeddings.to_pickle(output_dir + \"/all_transcripts_with_embeddings.pkl\")\n",
    "# also save as csv for optionality\n",
    "df_embeddings.to_csv(output_dir + \"/all_transcripts_with_embeddings.csv\", index=False)"
   ]
  }
 ],
 "metadata": {
  "kernelspec": {
   "display_name": "myenv-python3-9",
   "language": "python",
   "name": "python3"
  },
  "language_info": {
   "codemirror_mode": {
    "name": "ipython",
    "version": 3
   },
   "file_extension": ".py",
   "mimetype": "text/x-python",
   "name": "python",
   "nbconvert_exporter": "python",
   "pygments_lexer": "ipython3",
   "version": "3.9.18"
  }
 },
 "nbformat": 4,
 "nbformat_minor": 5
}
